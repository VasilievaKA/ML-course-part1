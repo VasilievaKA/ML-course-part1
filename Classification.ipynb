{
  "nbformat": 4,
  "nbformat_minor": 0,
  "metadata": {
    "colab": {
      "provenance": []
    },
    "kernelspec": {
      "name": "python3",
      "display_name": "Python 3"
    },
    "language_info": {
      "name": "python"
    }
  },
  "cells": [
    {
      "cell_type": "code",
      "execution_count": null,
      "metadata": {
        "id": "gmqCG0Z8X66M"
      },
      "outputs": [],
      "source": [
        "import numpy as np\n",
        "import pandas as pd\n",
        "import matplotlib.pyplot as plt\n",
        "\n",
        "plt.style.use('ggplot')     # Стиль графиков, можно закомментировать\n",
        "plt.rcParams['figure.figsize'] = (10, 7.5)              \n",
        "\n",
        "import sklearn\n",
        "import sklearn.datasets as datasets\n",
        "from sklearn.model_selection import train_test_split, GridSearchCV\n",
        "from sklearn.metrics import classification_report, confusion_matrix, accuracy_score, f1_score\n",
        "from sklearn.linear_model import LogisticRegression\n",
        "from sklearn.neighbors import KNeighborsClassifier\n",
        "from sklearn.svm import SVC\n",
        "from sklearn.preprocessing import StandardScaler\n",
        "from sklearn.ensemble import RandomForestClassifier"
      ]
    },
    {
      "cell_type": "code",
      "source": [
        "data_home = datasets.fetch_openml(name='credit-g')"
      ],
      "metadata": {
        "colab": {
          "base_uri": "https://localhost:8080/"
        },
        "id": "z4mmIEz3YJlg",
        "outputId": "226f039f-4417-44f0-ea3d-05ffc9ad752b"
      },
      "execution_count": null,
      "outputs": [
        {
          "output_type": "stream",
          "name": "stderr",
          "text": [
            "/usr/local/lib/python3.8/dist-packages/sklearn/datasets/_openml.py:417: UserWarning: Multiple active versions of the dataset matching the name credit-g exist. Versions may be fundamentally different, returning version 1.\n",
            "  warn(\n"
          ]
        }
      ]
    },
    {
      "cell_type": "code",
      "source": [
        "Predictors_home = data_home.get('data')\n",
        "Target_home = data_home.get('target')\n",
        "Predictors_home = Predictors_home.drop(['own_telephone'], axis=1)"
      ],
      "metadata": {
        "id": "OxtHq4Ccda62"
      },
      "execution_count": null,
      "outputs": []
    },
    {
      "cell_type": "code",
      "source": [
        "Predictors_home['new'] = Target_home"
      ],
      "metadata": {
        "id": "piMVLaOqdLoM"
      },
      "execution_count": null,
      "outputs": []
    },
    {
      "cell_type": "code",
      "source": [
        "Predictors_home['new'].value_counts()"
      ],
      "metadata": {
        "colab": {
          "base_uri": "https://localhost:8080/"
        },
        "id": "O3VEeGBndTul",
        "outputId": "7672c17a-6cc8-4b7b-a03c-603868c722d0"
      },
      "execution_count": null,
      "outputs": [
        {
          "output_type": "execute_result",
          "data": {
            "text/plain": [
              "good    700\n",
              "bad     300\n",
              "Name: new, dtype: int64"
            ]
          },
          "metadata": {},
          "execution_count": 471
        }
      ]
    },
    {
      "cell_type": "code",
      "source": [
        "pr_good = Predictors_home[Predictors_home['new'] == 'good'][:450]\n",
        "pr_bad = Predictors_home[Predictors_home['new'] == 'bad'][:250]\n",
        "Predictors = pr_good.append(pr_bad, ignore_index=True)\n",
        "from sklearn.utils import shuffle\n",
        "Predictors = shuffle(Predictors)\n",
        "answers = Predictors['new']\n",
        "Predictors = Predictors.drop('new', axis=1)\n",
        "Predictors_home = Predictors_home.drop('new', axis=1)"
      ],
      "metadata": {
        "id": "ljDY-T9QdQqS"
      },
      "execution_count": null,
      "outputs": []
    },
    {
      "cell_type": "code",
      "source": [
        "Predictors = pd.get_dummies(Predictors)\n",
        "Predictors_home = pd.get_dummies(Predictors_home)"
      ],
      "metadata": {
        "id": "cjE949LAvD8w"
      },
      "execution_count": null,
      "outputs": []
    },
    {
      "cell_type": "code",
      "source": [
        "X_train, X_test, Y_train, Y_test = Predictors, Predictors_home[701:], answers, Target_home[701:]"
      ],
      "metadata": {
        "id": "B_rbiuCHYL9o"
      },
      "execution_count": null,
      "outputs": []
    },
    {
      "cell_type": "code",
      "source": [
        "X_train.columns"
      ],
      "metadata": {
        "colab": {
          "base_uri": "https://localhost:8080/"
        },
        "id": "HIMTQL8Len_w",
        "outputId": "8587024e-9da1-491f-ac4c-0939a808399d"
      },
      "execution_count": null,
      "outputs": [
        {
          "output_type": "execute_result",
          "data": {
            "text/plain": [
              "Index(['duration', 'credit_amount', 'installment_commitment',\n",
              "       'residence_since', 'age', 'existing_credits', 'num_dependents',\n",
              "       'checking_status_<0', 'checking_status_0<=X<200',\n",
              "       'checking_status_>=200', 'checking_status_no checking',\n",
              "       'credit_history_no credits/all paid', 'credit_history_all paid',\n",
              "       'credit_history_existing paid', 'credit_history_delayed previously',\n",
              "       'credit_history_critical/other existing credit', 'purpose_new car',\n",
              "       'purpose_used car', 'purpose_furniture/equipment', 'purpose_radio/tv',\n",
              "       'purpose_domestic appliance', 'purpose_repairs', 'purpose_education',\n",
              "       'purpose_vacation', 'purpose_retraining', 'purpose_business',\n",
              "       'purpose_other', 'savings_status_<100', 'savings_status_100<=X<500',\n",
              "       'savings_status_500<=X<1000', 'savings_status_>=1000',\n",
              "       'savings_status_no known savings', 'employment_unemployed',\n",
              "       'employment_<1', 'employment_1<=X<4', 'employment_4<=X<7',\n",
              "       'employment_>=7', 'personal_status_male div/sep',\n",
              "       'personal_status_female div/dep/mar', 'personal_status_male single',\n",
              "       'personal_status_male mar/wid', 'personal_status_female single',\n",
              "       'other_parties_none', 'other_parties_co applicant',\n",
              "       'other_parties_guarantor', 'property_magnitude_real estate',\n",
              "       'property_magnitude_life insurance', 'property_magnitude_car',\n",
              "       'property_magnitude_no known property', 'other_payment_plans_bank',\n",
              "       'other_payment_plans_stores', 'other_payment_plans_none',\n",
              "       'housing_rent', 'housing_own', 'housing_for free',\n",
              "       'job_unemp/unskilled non res', 'job_unskilled resident', 'job_skilled',\n",
              "       'job_high qualif/self emp/mgmt', 'foreign_worker_yes',\n",
              "       'foreign_worker_no'],\n",
              "      dtype='object')"
            ]
          },
          "metadata": {},
          "execution_count": 489
        }
      ]
    },
    {
      "cell_type": "code",
      "source": [
        "num_features = X_train.select_dtypes(\"float64\").columns"
      ],
      "metadata": {
        "id": "0zMdN_Q3RjLP"
      },
      "execution_count": null,
      "outputs": []
    },
    {
      "cell_type": "code",
      "source": [
        "X_train.shape, X_test.shape"
      ],
      "metadata": {
        "colab": {
          "base_uri": "https://localhost:8080/"
        },
        "id": "KEk3rQ8ffNe6",
        "outputId": "ad1195e9-4d81-414b-ba1f-0e3b3776d032"
      },
      "execution_count": null,
      "outputs": [
        {
          "output_type": "execute_result",
          "data": {
            "text/plain": [
              "((700, 61), (299, 61))"
            ]
          },
          "metadata": {},
          "execution_count": 499
        }
      ]
    },
    {
      "cell_type": "code",
      "source": [
        "scaler = StandardScaler()\n",
        "X_train[num_features] = scaler.fit_transform(X_train[num_features])\n",
        "X_test[num_features] = scaler.transform(X_test[num_features])\n",
        "X_train = X_train.to_numpy()\n",
        "Y_train = Y_train.to_numpy()\n",
        "X_test = X_test.to_numpy()\n",
        "Y_test = Y_test.to_numpy()"
      ],
      "metadata": {
        "colab": {
          "base_uri": "https://localhost:8080/"
        },
        "id": "4UVcnCP8RYlF",
        "outputId": "68a79914-9005-4f38-b543-dbed222d61ad"
      },
      "execution_count": null,
      "outputs": [
        {
          "output_type": "stream",
          "name": "stderr",
          "text": [
            "/usr/local/lib/python3.8/dist-packages/pandas/core/frame.py:3678: SettingWithCopyWarning: \n",
            "A value is trying to be set on a copy of a slice from a DataFrame.\n",
            "Try using .loc[row_indexer,col_indexer] = value instead\n",
            "\n",
            "See the caveats in the documentation: https://pandas.pydata.org/pandas-docs/stable/user_guide/indexing.html#returning-a-view-versus-a-copy\n",
            "  self[col] = igetitem(value, i)\n"
          ]
        }
      ]
    },
    {
      "cell_type": "code",
      "source": [
        "clf = LogisticRegression() \n",
        "clf.fit(X_train, Y_train)\n",
        "clf.score(X_test, Y_test)"
      ],
      "metadata": {
        "id": "djT7sYCJSIno",
        "colab": {
          "base_uri": "https://localhost:8080/"
        },
        "outputId": "5d86d105-ee1b-49fe-f9fe-25e712c914cb"
      },
      "execution_count": null,
      "outputs": [
        {
          "output_type": "execute_result",
          "data": {
            "text/plain": [
              "0.782608695652174"
            ]
          },
          "metadata": {},
          "execution_count": 501
        }
      ]
    },
    {
      "cell_type": "code",
      "source": [
        "y_hat = clf.predict(X_test)\n",
        "print(classification_report(Y_test, y_hat))"
      ],
      "metadata": {
        "id": "mvuq7DVFSbzk",
        "colab": {
          "base_uri": "https://localhost:8080/"
        },
        "outputId": "9a41a34f-cd21-4256-a6c9-48d09deb28bb"
      },
      "execution_count": null,
      "outputs": [
        {
          "output_type": "stream",
          "name": "stdout",
          "text": [
            "              precision    recall  f1-score   support\n",
            "\n",
            "         bad       0.64      0.67      0.66        92\n",
            "        good       0.85      0.83      0.84       207\n",
            "\n",
            "    accuracy                           0.78       299\n",
            "   macro avg       0.75      0.75      0.75       299\n",
            "weighted avg       0.79      0.78      0.78       299\n",
            "\n"
          ]
        }
      ]
    },
    {
      "cell_type": "code",
      "source": [
        "number_of_neighbors = np.arange(3, 25, 2)\n",
        "model_KNN = KNeighborsClassifier()\n",
        "params = {\"n_neighbors\": number_of_neighbors}\n",
        "\n",
        "grid_search = GridSearchCV(estimator = model_KNN, \n",
        "                           param_grid = params, \n",
        "                           cv = 6, \n",
        "                           scoring = \"f1_macro\")"
      ],
      "metadata": {
        "id": "nuZxda9Vcm89"
      },
      "execution_count": null,
      "outputs": []
    },
    {
      "cell_type": "code",
      "source": [
        "grid_search.fit(X_train, Y_train)"
      ],
      "metadata": {
        "colab": {
          "base_uri": "https://localhost:8080/"
        },
        "id": "jXT17ZQxcuJv",
        "outputId": "376c6203-6c99-4220-83ca-d99f5cf831df"
      },
      "execution_count": null,
      "outputs": [
        {
          "output_type": "execute_result",
          "data": {
            "text/plain": [
              "GridSearchCV(cv=6, estimator=KNeighborsClassifier(),\n",
              "             param_grid={'n_neighbors': array([ 3,  5,  7,  9, 11, 13, 15, 17, 19, 21, 23])},\n",
              "             scoring='f1_macro')"
            ]
          },
          "metadata": {},
          "execution_count": 419
        }
      ]
    },
    {
      "cell_type": "code",
      "source": [
        "grid_search.best_score_"
      ],
      "metadata": {
        "colab": {
          "base_uri": "https://localhost:8080/"
        },
        "id": "r31Gpm1gc2kx",
        "outputId": "b10836af-c72f-44bf-a22b-a0f3fe6d2272"
      },
      "execution_count": null,
      "outputs": [
        {
          "output_type": "execute_result",
          "data": {
            "text/plain": [
              "0.6215986699665028"
            ]
          },
          "metadata": {},
          "execution_count": 298
        }
      ]
    },
    {
      "cell_type": "code",
      "source": [
        "preds_knn=grid_search.predict(X_test)"
      ],
      "metadata": {
        "id": "meEd6qsJgKtl"
      },
      "execution_count": null,
      "outputs": []
    },
    {
      "cell_type": "code",
      "source": [
        "f1_score(Y_test, preds_knn, average = \"macro\")"
      ],
      "metadata": {
        "colab": {
          "base_uri": "https://localhost:8080/"
        },
        "id": "bHR-TZq1gddV",
        "outputId": "185450c1-c278-4446-9bba-ed74f36055bb"
      },
      "execution_count": null,
      "outputs": [
        {
          "output_type": "execute_result",
          "data": {
            "text/plain": [
              "0.6757753198872263"
            ]
          },
          "metadata": {},
          "execution_count": 315
        }
      ]
    },
    {
      "cell_type": "code",
      "source": [
        "print(classification_report(Y_test, preds_knn))"
      ],
      "metadata": {
        "colab": {
          "base_uri": "https://localhost:8080/"
        },
        "id": "8Fpqqgs2gO1l",
        "outputId": "2f11e10a-5067-4e42-c529-e22266d7e510"
      },
      "execution_count": null,
      "outputs": [
        {
          "output_type": "stream",
          "name": "stdout",
          "text": [
            "              precision    recall  f1-score   support\n",
            "\n",
            "         bad       0.57      0.51      0.54        92\n",
            "        good       0.79      0.83      0.81       207\n",
            "\n",
            "    accuracy                           0.73       299\n",
            "   macro avg       0.68      0.67      0.68       299\n",
            "weighted avg       0.73      0.73      0.73       299\n",
            "\n"
          ]
        }
      ]
    }
  ]
}
