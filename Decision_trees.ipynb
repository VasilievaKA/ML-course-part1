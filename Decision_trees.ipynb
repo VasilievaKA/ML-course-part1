{
  "cells": [
    {
      "cell_type": "markdown",
      "metadata": {
        "id": "HsqCSvW5VHjC"
      },
      "source": [
        "Построить модель прогнозирования значений в столбце RainTomorrow (классификация) по заданной таблице наблюдений за погодой в Австралии.\n",
        "\n",
        "В качестве тестовых данных выбрат последние два месяца наблюдений за погодой во всех точках Австралии.\n",
        "\n",
        "Скорее всего, будет необходимо строить разные модели под разные точки наблюдения ввиду разницы в климате под влиянием различных прибрежных зон.\n",
        "\n",
        "**Рекомендации**:\n",
        "\n",
        "1. Скорее всего, для начала стоит построить простую модель по числовым наблюдениям, проверив данные на пропуски и очистки дней с пропусками в числовых наблюдениях.\n",
        "\n",
        "2. Даты можно превратить в несколько новых колонок (День, Месяц, День недели, День месяца, День года).\n",
        "\n",
        "3. Для улучшения качества модели воспользоваться категориальными признаками, превратив их в Дамми-переменные"
      ]
    },
    {
      "cell_type": "code",
      "execution_count": null,
      "metadata": {
        "colab": {
          "background_save": true
        },
        "id": "zVxPSpZpQWND"
      },
      "outputs": [],
      "source": [
        "import pandas as pd\n",
        "import numpy as np\n",
        "import matplotlib.pyplot as plt\n",
        "import sklearn.tree as tree\n",
        "import seaborn as sns\n",
        "sns.set()\n",
        "\n",
        "from sklearn.metrics import r2_score, f1_score, confusion_matrix, classification_report\n",
        "from sklearn import tree\n",
        "from sklearn import ensemble\n",
        "from sklearn.model_selection import GridSearchCV, train_test_split"
      ]
    },
    {
      "cell_type": "markdown",
      "metadata": {
        "id": "WWM-yC6XTDck"
      },
      "source": [
        "- Date: The date of observation \n",
        "\n",
        "- Location: The common name of the location of the weather station\n",
        "\n",
        "- MinTemp: The minimum temperature in degrees celsius\n",
        "\n",
        "- MaxTemp: The maximum temperature in degrees celsius\n",
        "\n",
        "- RainFall: The amount of rainfall recorded for the day in mm\n",
        "\n",
        "- Evaporation: The so-called Class A pan evaporation (mm) in the 24 hours to 9am\n",
        "\n",
        "- Sunshine: The number of hours of bright sunshine in the day.\n",
        "\n",
        "- WindGustDir: The direction of the strongest wind gust in the 24 hours to midnight\n",
        "\n",
        "- WindGustSpeed: The speed (km/h) of the strongest wind gust in the 24 hours to midnight\n",
        "\n",
        "- WindDir9am: Direction of the wind at 9am\n",
        "\n",
        "- WindDir3pm: Direction of the wind at 3pm\n",
        "\n",
        "- WindSpeed9am: Wind speed (km/hr) averaged over 10 minutes prior to 9am\n",
        "\n",
        "- WindSpeed3pm: Wind speed (km/hr) averaged over 10 minutes prior to 3pm\n",
        "\n",
        "- Humidity9am: Humidity (percent) at 9am\n",
        "\n",
        "- Humidity3pm: Humidity (percent) at 9am\n",
        "\n",
        "- Pressure9am: Atmospheric pressure (hpa) reduced to mean sea level at 9am\n",
        "\n",
        "- Pressure3pm: Atmospheric pressure (hpa) reduced to mean sea level at 3pm\n",
        "\n",
        "- Cloud9am: Fraction of sky obscured by cloud at 9am. This is measured in \"oktas\", which are a unit of eigths. It records how many\n",
        "\n",
        "- Cloud3pm: Fraction of sky obscured by cloud (in \"oktas\": eighths) at 3pm. See Cload9am for a description of the values\n",
        "\n",
        "- Temp9am: Temperature (degrees C) at 9am\n",
        "\n",
        "- Temp3pm: Temperature (degrees C) at 3pm\n",
        "\n",
        "- RainToday: Boolean: 1 if precipitation (mm) in the 24 hours to 9am exceeds 1mm, otherwise 0\n",
        "\n",
        "- RainTomorrow: The amount of next day rain in mm. Used to create response variable RainTomorrow. A kind of measure of the \"risk\"."
      ]
    },
    {
      "cell_type": "code",
      "execution_count": null,
      "metadata": {
        "colab": {
          "background_save": true
        },
        "id": "I_746OgeRjpG"
      },
      "outputs": [],
      "source": [
        "# Импорт данных\n",
        "weather_AUS = pd.read_csv(\"https://raw.githubusercontent.com/qwerty29544/RpracticeBook/master/2Data/01FlatTables/weatherAUS.csv\",\n",
        "                          parse_dates = [\"Date\"]).drop([\"RISK_MM\", 'Evaporation', 'Sunshine'], axis=1)"
      ]
    },
    {
      "cell_type": "code",
      "execution_count": null,
      "metadata": {
        "colab": {
          "background_save": true,
          "base_uri": "https://localhost:8080/"
        },
        "id": "hOF70TUyvWw8",
        "outputId": "31ffa42d-60b2-4f51-ddfa-7e5218174c9f"
      },
      "outputs": [
        {
          "data": {
            "text/plain": [
              "Date                 0\n",
              "Location             0\n",
              "MinTemp           3546\n",
              "MaxTemp           3359\n",
              "Rainfall          6362\n",
              "WindGustDir      16330\n",
              "WindGustSpeed    16223\n",
              "WindDir9am       17040\n",
              "WindDir3pm        9238\n",
              "WindSpeed9am      4160\n",
              "WindSpeed3pm      7731\n",
              "Humidity9am       4849\n",
              "Humidity3pm       8931\n",
              "Pressure9am      24024\n",
              "Pressure3pm      24005\n",
              "Cloud9am         93670\n",
              "Cloud3pm         99480\n",
              "Temp9am           3624\n",
              "Temp3pm           7783\n",
              "RainToday         6362\n",
              "RainTomorrow      6361\n",
              "dtype: int64"
            ]
          },
          "execution_count": 10,
          "metadata": {},
          "output_type": "execute_result"
        }
      ],
      "source": [
        "names = weather_AUS.columns\n",
        "weather_AUS.isnull().sum()"
      ]
    },
    {
      "cell_type": "code",
      "execution_count": null,
      "metadata": {
        "colab": {
          "base_uri": "https://localhost:8080/"
        },
        "id": "BXdP3i9gwryW",
        "outputId": "368ace2d-a1e0-41a9-d563-68e2cb91301f"
      },
      "outputs": [
        {
          "data": {
            "text/plain": [
              "{'Adelaide',\n",
              " 'Albany',\n",
              " 'Albury',\n",
              " 'AliceSprings',\n",
              " 'BadgerysCreek',\n",
              " 'Ballarat',\n",
              " 'Bendigo',\n",
              " 'Brisbane',\n",
              " 'Cairns',\n",
              " 'Canberra',\n",
              " 'Cobar',\n",
              " 'CoffsHarbour',\n",
              " 'Dartmoor',\n",
              " 'Darwin',\n",
              " 'GoldCoast',\n",
              " 'Hobart',\n",
              " 'Katherine',\n",
              " 'Launceston',\n",
              " 'Melbourne',\n",
              " 'MelbourneAirport',\n",
              " 'Mildura',\n",
              " 'Moree',\n",
              " 'MountGambier',\n",
              " 'MountGinini',\n",
              " 'Newcastle',\n",
              " 'Nhil',\n",
              " 'NorahHead',\n",
              " 'NorfolkIsland',\n",
              " 'Nuriootpa',\n",
              " 'PearceRAAF',\n",
              " 'Penrith',\n",
              " 'Perth',\n",
              " 'PerthAirport',\n",
              " 'Portland',\n",
              " 'Richmond',\n",
              " 'Sale',\n",
              " 'SalmonGums',\n",
              " 'Sydney',\n",
              " 'SydneyAirport',\n",
              " 'Townsville',\n",
              " 'Tuggeranong',\n",
              " 'Uluru',\n",
              " 'WaggaWagga',\n",
              " 'Walpole',\n",
              " 'Watsonia',\n",
              " 'Williamtown',\n",
              " 'Witchcliffe',\n",
              " 'Wollongong',\n",
              " 'Woomera'}"
            ]
          },
          "execution_count": 66,
          "metadata": {},
          "output_type": "execute_result"
        }
      ],
      "source": [
        "set(list(weather_AUS['Location'].values))"
      ]
    },
    {
      "cell_type": "code",
      "execution_count": null,
      "metadata": {
        "colab": {
          "background_save": true
        },
        "id": "Ef1e6jNuu7-H"
      },
      "outputs": [],
      "source": [
        "for i in names[2:]:\n",
        "  if i not in ['WindGustDir', 'WindDir9am', 'RainToday', 'RainTomorrow', 'WindDir3pm']:\n",
        "    weather_AUS[f'{i}'] = np.where(weather_AUS[f'{i}'].isnull(), weather_AUS[f'{i}'].median(), weather_AUS[f'{i}'])\n",
        "  else: \n",
        "    weather_AUS[f'{i}'] = weather_AUS[f'{i}'].fillna(method='backfill')\n",
        "weather_AUS.Date = pd.to_datetime(weather_AUS.Date)\n",
        "weather_AUS.reset_index(inplace=True)\n",
        "weather_AUS['Year'] = weather_AUS['Date'].dt.year\n",
        "weather_AUS['Mounth'] = weather_AUS['Date'].dt.month\n",
        "weather_AUS['Day'] = weather_AUS['Date'].dt.day\n",
        "weather_AUS = weather_AUS.drop(['Date', 'index'], axis=1)"
      ]
    },
    {
      "cell_type": "code",
      "execution_count": null,
      "metadata": {
        "colab": {
          "background_save": true
        },
        "id": "n0NHDUIp4tuh"
      },
      "outputs": [],
      "source": [
        "def splitTrainTest(weather_AUS):\n",
        "  weather_AUS.index = list(range(len(weather_AUS['Mounth'])))\n",
        "  X_test = weather_AUS[((weather_AUS['Year'] == weather_AUS['Year'][len(weather_AUS['Year'])-1]) & (weather_AUS['Mounth'] > weather_AUS['Mounth'][len(weather_AUS['Mounth'])-1]-2))]\n",
        "  X_train = weather_AUS[((weather_AUS['Year'] <= weather_AUS['Year'][len(weather_AUS['Year'])-1]) & (weather_AUS['Mounth'] <= weather_AUS['Mounth'][len(weather_AUS['Mounth'])-1]-2))] \n",
        "  Y_train = X_train['RainTomorrow'] \n",
        "  Y_test = X_test['RainTomorrow'] \n",
        "  X_test = X_test.drop('RainTomorrow', axis=1)\n",
        "  X_train = X_train.drop('RainTomorrow', axis=1)\n",
        "  list_difference = [element for element in list(X_train.columns) if element not in list(X_test.columns)] \n",
        "  X_train = X_train.drop(list_difference, axis=1)\n",
        "  return X_train, X_test, Y_train, Y_test"
      ]
    },
    {
      "cell_type": "code",
      "execution_count": null,
      "metadata": {
        "colab": {
          "background_save": true
        },
        "id": "3cirn009zluY"
      },
      "outputs": [],
      "source": [
        "d = dict(tuple(weather_AUS.groupby('Location')))"
      ]
    },
    {
      "cell_type": "code",
      "execution_count": null,
      "metadata": {
        "colab": {
          "background_save": true,
          "base_uri": "https://localhost:8080/"
        },
        "id": "LEJsct2uS4wk",
        "outputId": "b8fb1c0f-7990-4349-a3ae-131e277a657e"
      },
      "outputs": [
        {
          "data": {
            "text/plain": [
              "((2867, 114), (108343, 114))"
            ]
          },
          "execution_count": 14,
          "metadata": {},
          "output_type": "execute_result"
        }
      ],
      "source": [
        "X_train, X_test, Y_train, Y_test = splitTrainTest(d['Cairns'])\n",
        "X_test, X_train, Y_test, Y_train = pd.get_dummies(X_test), pd.get_dummies(X_train), pd.get_dummies(Y_test),  pd.get_dummies(Y_train)\n",
        "list_difference = [element for element in list(X_train.columns) if element not in list(X_test.columns)] \n",
        "X_train = X_train.drop(list_difference, axis=1)\n",
        "cols = X_train.columns\n",
        "for i in cols:\n",
        "  X_train[i] = pd.to_numeric(X_train[i], downcast='float')\n",
        "  X_test[i] = pd.to_numeric(X_test[i], downcast='float')\n",
        "\n",
        "cols = Y_train.select_dtypes(exclude=['float']).columns\n",
        "Y_train[cols] = Y_train[cols].apply(pd.to_numeric, downcast='float', errors='coerce')\n",
        "\n",
        "cols = Y_test.select_dtypes(exclude=['float']).columns\n",
        "Y_test[cols] = Y_test[cols].apply(pd.to_numeric, downcast='float', errors='coerce')\n",
        "X_test.shape, X_train.shape"
      ]
    },
    {
      "cell_type": "code",
      "execution_count": null,
      "metadata": {
        "colab": {
          "base_uri": "https://localhost:8080/"
        },
        "id": "FK-vdQRf1Maj",
        "outputId": "ba6eca1f-40d9-492f-a584-11ab407225b5"
      },
      "outputs": [
        {
          "data": {
            "text/plain": [
              "MinTemp            float32\n",
              "MaxTemp            float32\n",
              "Rainfall           float32\n",
              "WindGustSpeed      float32\n",
              "WindSpeed9am       float32\n",
              "WindSpeed3pm       float32\n",
              "Humidity9am        float32\n",
              "Humidity3pm        float32\n",
              "Pressure9am        float32\n",
              "Pressure3pm        float32\n",
              "Cloud9am           float32\n",
              "Cloud3pm           float32\n",
              "Temp9am            float32\n",
              "Temp3pm            float32\n",
              "Year               float32\n",
              "Mounth             float32\n",
              "Day                float32\n",
              "Location_Uluru       uint8\n",
              "WindGustDir_E        uint8\n",
              "WindGustDir_ENE      uint8\n",
              "WindGustDir_ESE      uint8\n",
              "WindGustDir_N        uint8\n",
              "WindGustDir_NNW      uint8\n",
              "WindGustDir_NW       uint8\n",
              "WindGustDir_S        uint8\n",
              "WindGustDir_SE       uint8\n",
              "WindGustDir_SSE      uint8\n",
              "WindGustDir_SSW      uint8\n",
              "WindGustDir_W        uint8\n",
              "WindGustDir_WNW      uint8\n",
              "WindDir9am_E         uint8\n",
              "WindDir9am_ENE       uint8\n",
              "WindDir9am_ESE       uint8\n",
              "WindDir9am_N         uint8\n",
              "WindDir9am_NNW       uint8\n",
              "WindDir9am_NW        uint8\n",
              "WindDir9am_S         uint8\n",
              "WindDir9am_SE        uint8\n",
              "WindDir9am_SSE       uint8\n",
              "WindDir9am_SSW       uint8\n",
              "WindDir9am_SW        uint8\n",
              "WindDir9am_WNW       uint8\n",
              "WindDir3pm_E         uint8\n",
              "WindDir3pm_ENE       uint8\n",
              "WindDir3pm_ESE       uint8\n",
              "WindDir3pm_N         uint8\n",
              "WindDir3pm_NE        uint8\n",
              "WindDir3pm_NNE       uint8\n",
              "WindDir3pm_NNW       uint8\n",
              "WindDir3pm_NW        uint8\n",
              "WindDir3pm_S         uint8\n",
              "WindDir3pm_SE        uint8\n",
              "WindDir3pm_SSE       uint8\n",
              "WindDir3pm_SSW       uint8\n",
              "WindDir3pm_SW        uint8\n",
              "WindDir3pm_W         uint8\n",
              "WindDir3pm_WNW       uint8\n",
              "RainToday_No         uint8\n",
              "RainToday_Yes        uint8\n",
              "dtype: object"
            ]
          },
          "execution_count": 40,
          "metadata": {},
          "output_type": "execute_result"
        }
      ],
      "source": [
        "X_train.dtypes"
      ]
    },
    {
      "cell_type": "code",
      "execution_count": null,
      "metadata": {
        "colab": {
          "background_save": true
        },
        "id": "d2YWnpb5JU8m"
      },
      "outputs": [],
      "source": [
        "from sklearn.metrics import accuracy_score\n",
        "from sklearn.metrics import classification_report\n",
        "\n",
        "def train_using_gini(X_train, y_train):\n",
        "    # Creating the classifier object\n",
        "    clf_gini = tree.DecisionTreeClassifier(criterion = \"gini\",\n",
        "            random_state = 100,max_depth=3, min_samples_leaf=5)\n",
        "    clf_gini.fit(X_train, y_train)\n",
        "    return clf_gini\n",
        "\n",
        "def prediction(X_test, clf_object):\n",
        "    return clf_object.predict(X_test)\n",
        "      \n",
        "# Function to calculate accuracy\n",
        "def cal_accuracy(y_test, y_pred):\n",
        "    print (accuracy_score(y_test,y_pred)*100)\n",
        "    print(classification_report(y_test, y_pred))"
      ]
    },
    {
      "cell_type": "code",
      "execution_count": null,
      "metadata": {
        "colab": {
          "base_uri": "https://localhost:8080/"
        },
        "id": "7xdBnmM4JmSq",
        "outputId": "8dd20144-9419-4c3f-bc89-04eceb4506d9"
      },
      "outputs": [
        {
          "name": "stdout",
          "output_type": "stream",
          "text": [
            "Results Using Gini Index:\n",
            "79.14196023718172\n",
            "              precision    recall  f1-score   support\n",
            "\n",
            "           0       0.80      0.93      0.86      2006\n",
            "           1       0.74      0.46      0.57       861\n",
            "\n",
            "   micro avg       0.79      0.79      0.79      2867\n",
            "   macro avg       0.77      0.70      0.72      2867\n",
            "weighted avg       0.78      0.79      0.78      2867\n",
            " samples avg       0.79      0.79      0.79      2867\n",
            "\n"
          ]
        },
        {
          "data": {
            "text/plain": [
              "(None, 0.717165468328503)"
            ]
          },
          "execution_count": 73,
          "metadata": {},
          "output_type": "execute_result"
        }
      ],
      "source": [
        "clf_gini = train_using_gini(X_train, Y_train)\n",
        "print(\"Results Using Gini Index:\")\n",
        "y_pred_gini = prediction(X_test, clf_gini)\n",
        "cal_accuracy(Y_test, y_pred_gini), f1_score(Y_test, y_pred_gini, average=\"macro\")"
      ]
    },
    {
      "cell_type": "code",
      "execution_count": null,
      "metadata": {
        "colab": {
          "base_uri": "https://localhost:8080/"
        },
        "id": "4Q2ZSBUTTTSx",
        "outputId": "f9357462-7035-4282-cf4f-d525b9fce857"
      },
      "outputs": [
        {
          "name": "stdout",
          "output_type": "stream",
          "text": [
            "Оценка классификации на обучении  0.7979903137707194\n"
          ]
        },
        {
          "data": {
            "text/plain": [
              "0.7505178760341387"
            ]
          },
          "execution_count": 74,
          "metadata": {},
          "output_type": "execute_result"
        }
      ],
      "source": [
        "model_DT_gscv = tree.DecisionTreeClassifier()\n",
        "params_grid = {\n",
        "    \"ccp_alpha\": [0.0],\n",
        "    \"class_weight\": [None],\n",
        "    \"criterion\": ['gini'],\n",
        "    \"max_depth\": [12, 15, 18],\n",
        "    \"max_features\": [None],\n",
        "    \"max_leaf_nodes\": [None],\n",
        "    \"min_impurity_decrease\": [0.0],\n",
        "    \"min_samples_leaf\": [1, 5, 10],\n",
        "    \"min_samples_split\": [2, 12, 22],\n",
        "    'min_weight_fraction_leaf': [0.0], \n",
        "    'random_state': [None], \n",
        "    'splitter': ['best']\n",
        "    }\n",
        "\n",
        "\n",
        "grid_search_DT_clf = GridSearchCV(estimator=model_DT_gscv, \n",
        "                                  param_grid=params_grid, \n",
        "                                  scoring=\"f1_macro\", \n",
        "                                  cv = 4)\n",
        "grid_search_DT_clf.fit(np.array(X_train), np.array(Y_train))\n",
        "preds_train = grid_search_DT_clf.predict(np.array(X_train))\n",
        "print(\"Оценка классификации на обучении \", f1_score(Y_train, preds_train, average=\"macro\"))\n",
        "preds_DT_gscv = grid_search_DT_clf.predict(np.array(X_test))\n",
        "f1_score(Y_test, preds_DT_gscv, average=\"macro\")"
      ]
    },
    {
      "cell_type": "code",
      "execution_count": null,
      "metadata": {
        "colab": {
          "base_uri": "https://localhost:8080/"
        },
        "id": "sTfViVREw-5H",
        "outputId": "fd44db81-50e6-4352-f900-446eac56b869"
      },
      "outputs": [
        {
          "data": {
            "text/plain": [
              "(1.0, 0.7505178760341387)"
            ]
          },
          "execution_count": 76,
          "metadata": {},
          "output_type": "execute_result"
        }
      ],
      "source": [
        "model_RF_clf = ensemble.RandomForestClassifier()\n",
        "model_RF_clf.fit(np.array(X_train), np.array(Y_train))\n",
        "preds_RF_clf1 =  model_RF_clf.predict(np.array(X_train))\n",
        "preds_RF_clf = model_RF_clf.predict(np.array(X_test))\n",
        "\n",
        "f1_score(Y_train, preds_RF_clf1, average=\"macro\"), f1_score(Y_test, preds_DT_gscv, average=\"macro\")"
      ]
    },
    {
      "cell_type": "code",
      "execution_count": null,
      "metadata": {
        "colab": {
          "base_uri": "https://localhost:8080/"
        },
        "id": "RX-_KP8YS3Iy",
        "outputId": "7d7be075-ca25-4669-e8f7-9abd2057ed63"
      },
      "outputs": [
        {
          "data": {
            "text/plain": [
              "No     0.774904\n",
              "Yes    0.225096\n",
              "Name: RainTomorrow, dtype: float64"
            ]
          },
          "execution_count": 278,
          "metadata": {},
          "output_type": "execute_result"
        }
      ],
      "source": [
        "# Распределение классов\n",
        "weather_AUS[\"RainTomorrow\"].value_counts(normalize=True)"
      ]
    }
  ],
  "metadata": {
    "accelerator": "GPU",
    "colab": {
      "provenance": []
    },
    "gpuClass": "standard",
    "kernelspec": {
      "display_name": "Python 3",
      "name": "python3"
    },
    "language_info": {
      "name": "python"
    }
  },
  "nbformat": 4,
  "nbformat_minor": 0
}